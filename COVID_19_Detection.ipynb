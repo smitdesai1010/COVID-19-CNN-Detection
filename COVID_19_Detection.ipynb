{
  "nbformat": 4,
  "nbformat_minor": 0,
  "metadata": {
    "colab": {
      "name": "COVID-19 Detection.ipynb",
      "provenance": [],
      "authorship_tag": "ABX9TyOXxWboPlWjwxZi//LT03c9",
      "include_colab_link": true
    },
    "kernelspec": {
      "name": "python3",
      "display_name": "Python 3"
    }
  },
  "cells": [
    {
      "cell_type": "markdown",
      "metadata": {
        "id": "view-in-github",
        "colab_type": "text"
      },
      "source": [
        "<a href=\"https://colab.research.google.com/github/smitdesai1010/COVID-19-Detection/blob/master/COVID_19_Detection.ipynb\" target=\"_parent\"><img src=\"https://colab.research.google.com/assets/colab-badge.svg\" alt=\"Open In Colab\"/></a>"
      ]
    },
    {
      "cell_type": "code",
      "metadata": {
        "id": "mA6PM1LqLqFo",
        "colab_type": "code",
        "colab": {}
      },
      "source": [
        "from google.colab import files\n",
        "\n",
        "files.upload()"
      ],
      "execution_count": null,
      "outputs": []
    },
    {
      "cell_type": "code",
      "metadata": {
        "id": "xBvkV4cSLxiS",
        "colab_type": "code",
        "colab": {}
      },
      "source": [
        "import json\n",
        "\n",
        "token = {\"username\":\"smitdesai1010\",\"key\":\"41f928f2f4a0f0b462ed2ec45f383c82\"}\n",
        "with open('/content/kaggle.json', 'w') as file:\n",
        "    json.dump(token, file)\n",
        "\n",
        "!cp /content/kaggle.json ~/.kaggle/kaggle.json\n",
        "\n",
        "!kaggle config set -n path -v /content\n",
        "!chmod 600 /root/.kaggle/kaggle.json\n",
        "\n",
        "!kaggle datasets download -d amanullahasraf/covid19-pneumonia-normal-chest-xray-pa-dataset\n",
        "\n",
        "\n",
        "import zipfile\n",
        "\n",
        "zf = zipfile.ZipFile('/content/datasets/amanullahasraf/covid19-pneumonia-normal-chest-xray-pa-dataset/covid19-pneumonia-normal-chest-xray-pa-dataset.zip') \n",
        "zf.extractall()\n",
        "\n",
        "!rm -rf 'datasets' #Deleting the the downloaded Zip files after extracting it "
      ],
      "execution_count": null,
      "outputs": []
    },
    {
      "cell_type": "code",
      "metadata": {
        "id": "xyCkHxKEbcjv",
        "colab_type": "code",
        "colab": {}
      },
      "source": [
        "import tensorflow as tf\n",
        "import cv2\n",
        "import os\n",
        "import shutil\n",
        "\n",
        "import matplotlib.pyplot as plt\n",
        "import numpy as np\n",
        "\n",
        "from sklearn.preprocessing import LabelEncoder\n",
        "from sklearn.model_selection import train_test_split\n",
        "\n",
        "from keras import backend as K\n",
        "from keras.models import Sequential\n",
        "from keras.layers import Dense\n",
        "from keras.optimizers import Adam,SGD,Adagrad,Adadelta,RMSprop\n",
        "from keras.utils import to_categorical\n",
        "\n",
        "# specifically for cnn\n",
        "from keras.layers import Dropout, Flatten,Activation\n",
        "from keras.layers import Conv2D, MaxPooling2D, BatchNormalization\n",
        "\n",
        "from keras.utils import to_categorical\n",
        "from keras.preprocessing.image import ImageDataGenerator"
      ],
      "execution_count": 44,
      "outputs": []
    },
    {
      "cell_type": "code",
      "metadata": {
        "id": "1x6EJcIUb-74",
        "colab_type": "code",
        "colab": {}
      },
      "source": [
        "def create_dataset(name):\n",
        "  org_path = '/content/'+ name\n",
        "  train_path = '/content/train/'+ name\n",
        "  val_path = '/content/validation/'+ name\n",
        "  test_path = '/content/test/'+ name\n",
        "\n",
        "  if not os.path.exists(train_path):\n",
        "    os.mkdir(train_path)\n",
        "    os.mkdir(val_path)\n",
        "    os.mkdir(test_path)\n",
        "\n",
        "  path, dirs, files = next(os.walk(org_path))\n",
        "  file_count = len(files)\n",
        "  i = 0  \n",
        "    \n",
        "  for file in os.listdir(org_path):\n",
        "    \n",
        "    if not os.path.isfile(os.path.join(org_path,file)):\n",
        "      continue\n",
        "\n",
        "    if i < file_count*0.75:\n",
        "     shutil.copy2(os.path.join(org_path,file), os.path.join(train_path,file))\n",
        "    \n",
        "    elif i > file_count*0.9:\n",
        "     shutil.copy2(os.path.join(org_path,file), os.path.join(test_path,file))\n",
        "\n",
        "    else:\n",
        "     shutil.copy2(os.path.join(org_path,file), os.path.join(val_path,file))\n",
        "     \n",
        "    i = i + 1 "
      ],
      "execution_count": 50,
      "outputs": []
    },
    {
      "cell_type": "markdown",
      "metadata": {
        "id": "sJ65KCjpo5lg",
        "colab_type": "text"
      },
      "source": [
        "https://medium.com/@mrgarg.rajat/training-on-large-datasets-that-dont-fit-in-memory-in-keras-60a974785d71"
      ]
    },
    {
      "cell_type": "code",
      "metadata": {
        "id": "TRCX7Zg1prWV",
        "colab_type": "code",
        "colab": {}
      },
      "source": [
        "if not os.path.exists('/content/train'):\n",
        "  !mkdir /content/train\n",
        "  !mkdir /content/validation\n",
        "  !mkdir /content/test\n",
        " \n",
        "create_dataset('covid')\n",
        "create_dataset('normal')\n",
        "create_dataset('pneumonia')\n",
        "\n",
        "!rm -rf 'covid'\n",
        "!rm -rf 'normal'\n",
        "!rm -rf 'pneumonia'"
      ],
      "execution_count": 54,
      "outputs": []
    }
  ]
}